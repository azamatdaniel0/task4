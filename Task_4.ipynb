{
  "cells": [
    {
      "cell_type": "markdown",
      "metadata": {
        "id": "zXmLmGbLiO9f"
      },
      "source": [
        "# Титаник: прогноз выживания\n",
        "\n",
        "В этом задании мы будем работать с датасетом `titanic_test.csv`."
      ]
    },
    {
      "cell_type": "code",
      "execution_count": null,
      "metadata": {
        "id": "4nwCiRLGiO9g"
      },
      "outputs": [],
      "source": [
        "# import pandas\n",
        "import pandas as pd"
      ]
    },
    {
      "cell_type": "code",
      "execution_count": null,
      "metadata": {
        "id": "lW_f_niIiO9i"
      },
      "outputs": [],
      "source": [
        "# read the data and show first 5 rows\n",
        "df  = pd.read_csv('titanic_train.csv', sep = ',')"
      ]
    },
    {
      "cell_type": "markdown",
      "metadata": {
        "id": "f1aby8vdiO9i"
      },
      "source": [
        "# Раздел 1. Понимаем и трансформируем данные с Титаника"
      ]
    },
    {
      "cell_type": "code",
      "execution_count": null,
      "metadata": {
        "id": "Y3_Egq4EiO9j"
      },
      "outputs": [],
      "source": [
        "# как посмотреть основную информацию про данные?\n",
        "\n"
      ]
    },
    {
      "cell_type": "markdown",
      "metadata": {
        "id": "zAdVrix9iO9j"
      },
      "source": [
        "<div>\n",
        "<img src=\"attachment:image.png\" width=\"800\"/>\n",
        "</div>\n"
      ]
    },
    {
      "cell_type": "markdown",
      "metadata": {
        "id": "TSK0PY-3iO9k"
      },
      "source": [
        "### Задача 1.1\n",
        "\n",
        "Разбейте все переменные в датасете на численные, категорийные и ординальные. Запишите их названия (копируя из списка `train_df.columns`) и сохраните в следующем блоке в categorical и ordinal. \n",
        "\n"
      ]
    },
    {
      "cell_type": "code",
      "execution_count": null,
      "metadata": {
        "id": "mCc4Rmg4iO9k",
        "outputId": "613e05f2-7be9-4815-c75e-5e2c3223a9eb"
      },
      "outputs": [
        {
          "name": "stdout",
          "output_type": "stream",
          "text": [
            "Index(['PassengerId', 'Survived', 'Pclass', 'Name', 'Gender', 'Age', 'SibSp',\n",
            "       'Parch', 'Ticket', 'Fare', 'Cabin', 'Embarked'],\n",
            "      dtype='object')\n"
          ]
        }
      ],
      "source": []
    },
    {
      "cell_type": "code",
      "execution_count": null,
      "metadata": {
        "id": "5Q3HqMS-iO9l"
      },
      "outputs": [],
      "source": [
        "### TODO\n",
        "\n",
        "numerical = ['Age', 'SibSp', 'Parch', 'Fare']\n",
        "categorical = ['Survived', 'Gender']\n",
        "ordinal = ['Pclass']\n",
        "not_useful = ['PassengerId', 'Name', 'Ticket', 'Embarked']"
      ]
    },
    {
      "cell_type": "markdown",
      "metadata": {
        "id": "o7KmNsxRiO9m"
      },
      "source": [
        "### Задача 1.2\n",
        "\n",
        "Запишите названия переменных, которые не принесут никакой пользы для статистической модели, в список not_useful в следующем блоке. Используя команду `.drop()`, удалите эти переменные из данных. "
      ]
    },
    {
      "cell_type": "code",
      "execution_count": null,
      "metadata": {
        "id": "Zg_OoKOuiO9m",
        "outputId": "017f78ea-4564-43ef-ff1f-fb868a24440b"
      },
      "outputs": [
        {
          "name": "stdout",
          "output_type": "stream",
          "text": [
            "['PassengerId' 'Survived' 'Pclass' 'Name' 'Gender' 'Age' 'SibSp' 'Parch'\n",
            " 'Ticket' 'Fare' 'Cabin' 'Embarked']\n"
          ]
        }
      ],
      "source": []
    },
    {
      "cell_type": "code",
      "execution_count": null,
      "metadata": {
        "id": "xAti5lFFiO9n",
        "outputId": "1901cc3a-e502-4be8-ee10-d7428093ee60"
      },
      "outputs": [
        {
          "data": {
            "text/plain": [
              "pandas.core.frame.DataFrame"
            ]
          },
          "execution_count": 33,
          "metadata": {},
          "output_type": "execute_result"
        }
      ],
      "source": []
    },
    {
      "cell_type": "markdown",
      "metadata": {
        "id": "TUHtmtfAiO9n"
      },
      "source": [
        "### Задача 1.3\n",
        "Меняем гендер в бинарную репрезентацию"
      ]
    },
    {
      "cell_type": "code",
      "execution_count": null,
      "metadata": {
        "scrolled": true,
        "id": "s9xW77aviO9o",
        "outputId": "52b29327-4ef1-4091-db6d-1868acdf623d"
      },
      "outputs": [
        {
          "data": {
            "text/html": [
              "<div>\n",
              "<style scoped>\n",
              "    .dataframe tbody tr th:only-of-type {\n",
              "        vertical-align: middle;\n",
              "    }\n",
              "\n",
              "    .dataframe tbody tr th {\n",
              "        vertical-align: top;\n",
              "    }\n",
              "\n",
              "    .dataframe thead th {\n",
              "        text-align: right;\n",
              "    }\n",
              "</style>\n",
              "<table border=\"1\" class=\"dataframe\">\n",
              "  <thead>\n",
              "    <tr style=\"text-align: right;\">\n",
              "      <th></th>\n",
              "      <th>Survived</th>\n",
              "      <th>Pclass</th>\n",
              "      <th>Gender</th>\n",
              "      <th>Age</th>\n",
              "      <th>SibSp</th>\n",
              "      <th>Parch</th>\n",
              "      <th>Fare</th>\n",
              "    </tr>\n",
              "  </thead>\n",
              "  <tbody>\n",
              "    <tr>\n",
              "      <th>0</th>\n",
              "      <td>0</td>\n",
              "      <td>3</td>\n",
              "      <td>0</td>\n",
              "      <td>22.0</td>\n",
              "      <td>1</td>\n",
              "      <td>0</td>\n",
              "      <td>7.2500</td>\n",
              "    </tr>\n",
              "    <tr>\n",
              "      <th>1</th>\n",
              "      <td>1</td>\n",
              "      <td>1</td>\n",
              "      <td>1</td>\n",
              "      <td>38.0</td>\n",
              "      <td>1</td>\n",
              "      <td>0</td>\n",
              "      <td>71.2833</td>\n",
              "    </tr>\n",
              "    <tr>\n",
              "      <th>2</th>\n",
              "      <td>1</td>\n",
              "      <td>3</td>\n",
              "      <td>1</td>\n",
              "      <td>26.0</td>\n",
              "      <td>0</td>\n",
              "      <td>0</td>\n",
              "      <td>7.9250</td>\n",
              "    </tr>\n",
              "    <tr>\n",
              "      <th>3</th>\n",
              "      <td>1</td>\n",
              "      <td>1</td>\n",
              "      <td>1</td>\n",
              "      <td>35.0</td>\n",
              "      <td>1</td>\n",
              "      <td>0</td>\n",
              "      <td>53.1000</td>\n",
              "    </tr>\n",
              "    <tr>\n",
              "      <th>4</th>\n",
              "      <td>0</td>\n",
              "      <td>3</td>\n",
              "      <td>0</td>\n",
              "      <td>35.0</td>\n",
              "      <td>0</td>\n",
              "      <td>0</td>\n",
              "      <td>8.0500</td>\n",
              "    </tr>\n",
              "  </tbody>\n",
              "</table>\n",
              "</div>"
            ],
            "text/plain": [
              "   Survived  Pclass  Gender   Age  SibSp  Parch     Fare\n",
              "0         0       3       0  22.0      1      0   7.2500\n",
              "1         1       1       1  38.0      1      0  71.2833\n",
              "2         1       3       1  26.0      0      0   7.9250\n",
              "3         1       1       1  35.0      1      0  53.1000\n",
              "4         0       3       0  35.0      0      0   8.0500"
            ]
          },
          "execution_count": 34,
          "metadata": {},
          "output_type": "execute_result"
        }
      ],
      "source": []
    },
    {
      "cell_type": "markdown",
      "metadata": {
        "id": "Em7H7ezwiO9o"
      },
      "source": [
        "### Задача 1.4\n",
        "Есть ли у нас пропущенные данные?"
      ]
    },
    {
      "cell_type": "code",
      "execution_count": null,
      "metadata": {
        "id": "o_lNzGs5iO9o",
        "outputId": "eef44f80-503f-48fb-a7a0-0ffef4abdbc6"
      },
      "outputs": [
        {
          "name": "stdout",
          "output_type": "stream",
          "text": [
            "Survived      0\n",
            "Pclass        0\n",
            "Gender        0\n",
            "Age         177\n",
            "SibSp         0\n",
            "Parch         0\n",
            "Fare          0\n",
            "dtype: int64\n"
          ]
        }
      ],
      "source": [
        "### Почему с пропущенными данными невозможно тренировать статистические модели?\n"
      ]
    },
    {
      "cell_type": "code",
      "execution_count": null,
      "metadata": {
        "id": "HM3yAtFSiO9p"
      },
      "outputs": [],
      "source": [
        "# Замените пропущенные строчки в колонках возраста на среднее значение\n"
      ]
    },
    {
      "cell_type": "code",
      "execution_count": null,
      "metadata": {
        "id": "ytFPVlDWiO9p",
        "outputId": "ae86021b-d6e5-40b7-a329-c9a76f9be508"
      },
      "outputs": [
        {
          "name": "stdout",
          "output_type": "stream",
          "text": [
            "Survived    0\n",
            "Pclass      0\n",
            "Gender      0\n",
            "Age         0\n",
            "SibSp       0\n",
            "Parch       0\n",
            "Fare        0\n",
            "dtype: int64\n"
          ]
        }
      ],
      "source": [
        "# Проверьте остались ли пропущенные данные\n",
        "### TODO\n"
      ]
    },
    {
      "cell_type": "markdown",
      "metadata": {
        "id": "TR24CwnkiO9q"
      },
      "source": [
        "-----\n",
        "\n",
        "# Раздел 2. Анализируем данные"
      ]
    },
    {
      "cell_type": "code",
      "execution_count": null,
      "metadata": {
        "id": "tz-0z4kciO9q"
      },
      "outputs": [],
      "source": [
        "### TODO\n",
        "\n",
        "# Создаем подразделы данных по классу билета пассажиров\n",
        "\n",
        "# взять тех у кого Pclass равен 1\n",
        "\n",
        "\n",
        "# взять тех у кого Pclass равен 2\n",
        "\n",
        "\n",
        "# взять тех у кого Pclass равен 3\n"
      ]
    },
    {
      "cell_type": "markdown",
      "metadata": {
        "id": "ey5YFdpuiO9r"
      },
      "source": [
        "## Покажите какие шансы на выживание в зависимости от класса билета:"
      ]
    },
    {
      "cell_type": "code",
      "execution_count": null,
      "metadata": {
        "scrolled": true,
        "id": "HgGiVIOziO9r",
        "outputId": "a96b3845-2527-4cbf-f278-819ead1875aa"
      },
      "outputs": [
        {
          "name": "stdout",
          "output_type": "stream",
          "text": [
            "1 = 0.6296296296296297\n",
            "2 = 0.47282608695652173\n",
            "3 = 0.24236252545824846\n"
          ]
        }
      ],
      "source": [
        "### TODO\n"
      ]
    },
    {
      "cell_type": "markdown",
      "metadata": {
        "id": "PJjp89EaiO9r"
      },
      "source": [
        "## Шансы на выживание в зависимости от возраста:"
      ]
    },
    {
      "cell_type": "code",
      "execution_count": null,
      "metadata": {
        "scrolled": true,
        "id": "trtAc_JdiO9s",
        "outputId": "d240e100-1506-4134-9577-c89d43946bcc"
      },
      "outputs": [
        {
          "name": "stdout",
          "output_type": "stream",
          "text": [
            "28.54977812177503\n",
            "30.415099646415896\n"
          ]
        }
      ],
      "source": [
        "### TODO\n",
        "# ВАШЕ РЕШЕНИЕ\n"
      ]
    },
    {
      "cell_type": "code",
      "execution_count": null,
      "metadata": {
        "id": "P3zw5d8FiO9s",
        "outputId": "7365048f-5d58-418a-f501-61cc3c6bf15a"
      },
      "outputs": [
        {
          "data": {
            "text/html": [
              "<div>\n",
              "<style scoped>\n",
              "    .dataframe tbody tr th:only-of-type {\n",
              "        vertical-align: middle;\n",
              "    }\n",
              "\n",
              "    .dataframe tbody tr th {\n",
              "        vertical-align: top;\n",
              "    }\n",
              "\n",
              "    .dataframe thead th {\n",
              "        text-align: right;\n",
              "    }\n",
              "</style>\n",
              "<table border=\"1\" class=\"dataframe\">\n",
              "  <thead>\n",
              "    <tr style=\"text-align: right;\">\n",
              "      <th></th>\n",
              "      <th>Age</th>\n",
              "    </tr>\n",
              "    <tr>\n",
              "      <th>Survived</th>\n",
              "      <th></th>\n",
              "    </tr>\n",
              "  </thead>\n",
              "  <tbody>\n",
              "    <tr>\n",
              "      <th>0</th>\n",
              "      <td>30.415100</td>\n",
              "    </tr>\n",
              "    <tr>\n",
              "      <th>1</th>\n",
              "      <td>28.549778</td>\n",
              "    </tr>\n",
              "  </tbody>\n",
              "</table>\n",
              "</div>"
            ],
            "text/plain": [
              "                Age\n",
              "Survived           \n",
              "0         30.415100\n",
              "1         28.549778"
            ]
          },
          "execution_count": 72,
          "metadata": {},
          "output_type": "execute_result"
        }
      ],
      "source": [
        "# Далее попробуйте:\n"
      ]
    },
    {
      "cell_type": "markdown",
      "metadata": {
        "id": "46AHSukNiO9s"
      },
      "source": [
        "## Шансы на выживание в зависимости от ..."
      ]
    },
    {
      "cell_type": "code",
      "execution_count": null,
      "metadata": {
        "id": "d7kedmZNiO9s",
        "outputId": "b7620d0a-89b9-4412-a347-9168fa57e5c6"
      },
      "outputs": [
        {
          "data": {
            "text/plain": [
              "0.7420382165605095"
            ]
          },
          "execution_count": 68,
          "metadata": {},
          "output_type": "execute_result"
        }
      ],
      "source": [
        "### TODO\n",
        "# Шансы на выживание в зависимости от пола\n"
      ]
    },
    {
      "cell_type": "code",
      "execution_count": null,
      "metadata": {
        "id": "iKYAyZ3niO9t"
      },
      "outputs": [],
      "source": [
        "# TODO\n",
        "# Шансы на выживание в зависимости от количества братьев/сестер/партнеров (SibSp)\n"
      ]
    },
    {
      "cell_type": "code",
      "execution_count": null,
      "metadata": {
        "id": "2JUdILUZiO9t",
        "outputId": "83c33458-3f86-426e-b606-4d82b43a5a61"
      },
      "outputs": [
        {
          "data": {
            "text/plain": [
              "0.5117370892018779"
            ]
          },
          "execution_count": 70,
          "metadata": {},
          "output_type": "execute_result"
        }
      ],
      "source": [
        "### TODO\n",
        "# Шансы на выживание в зависимости от количества детей/родителей (Parch) на борту корабля\n",
        "\n"
      ]
    }
  ],
  "metadata": {
    "kernelspec": {
      "display_name": "Python 3",
      "language": "python",
      "name": "python3"
    },
    "language_info": {
      "codemirror_mode": {
        "name": "ipython",
        "version": 3
      },
      "file_extension": ".py",
      "mimetype": "text/x-python",
      "name": "python",
      "nbconvert_exporter": "python",
      "pygments_lexer": "ipython3",
      "version": "3.8.5"
    },
    "colab": {
      "provenance": []
    }
  },
  "nbformat": 4,
  "nbformat_minor": 0
}